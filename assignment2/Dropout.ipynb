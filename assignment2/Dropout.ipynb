{
 "cells": [
  {
   "cell_type": "markdown",
   "metadata": {
    "tags": [
     "pdf-title"
    ]
   },
   "source": [
    "# Dropout\n",
    "Dropout [1] is a technique for regularizing neural networks by randomly setting some output activations to zero during the forward pass. In this exercise you will implement a dropout layer and modify your fully-connected network to optionally use dropout.\n",
    "\n",
    "[1] [Geoffrey E. Hinton et al, \"Improving neural networks by preventing co-adaptation of feature detectors\", arXiv 2012](https://arxiv.org/abs/1207.0580)"
   ]
  },
  {
   "cell_type": "code",
   "execution_count": 15,
   "metadata": {
    "pycharm": {
     "is_executing": false
    },
    "tags": [
     "pdf-ignore"
    ]
   },
   "outputs": [
    {
     "name": "stdout",
     "output_type": "stream",
     "text": [
      "The autoreload extension is already loaded. To reload it, use:\n",
      "  %reload_ext autoreload\n"
     ]
    }
   ],
   "source": [
    "# As usual, a bit of setup\n",
    "from __future__ import print_function\n",
    "import time\n",
    "import numpy as np\n",
    "import matplotlib.pyplot as plt\n",
    "from comp451.classifiers.fc_net import *\n",
    "from comp451.data_utils import get_CIFAR10_data\n",
    "from comp451.gradient_check import eval_numerical_gradient, eval_numerical_gradient_array\n",
    "from comp451.solver import Solver\n",
    "\n",
    "%matplotlib inline\n",
    "plt.rcParams['figure.figsize'] = (10.0, 8.0) # set default size of plots\n",
    "plt.rcParams['image.interpolation'] = 'nearest'\n",
    "plt.rcParams['image.cmap'] = 'gray'\n",
    "\n",
    "# for auto-reloading external modules\n",
    "# see http://stackoverflow.com/questions/1907993/autoreload-of-modules-in-ipython\n",
    "%load_ext autoreload\n",
    "%autoreload 2\n",
    "\n",
    "def rel_error(x, y):\n",
    "  \"\"\" returns relative error \"\"\"\n",
    "  return np.max(np.abs(x - y) / (np.maximum(1e-8, np.abs(x) + np.abs(y))))"
   ]
  },
  {
   "cell_type": "code",
   "execution_count": 16,
   "metadata": {
    "pycharm": {
     "is_executing": false
    },
    "tags": [
     "pdf-ignore"
    ]
   },
   "outputs": [
    {
     "name": "stdout",
     "output_type": "stream",
     "text": [
      "X_train:  (49000, 3, 32, 32)\n",
      "y_train:  (49000,)\n",
      "X_val:  (1000, 3, 32, 32)\n",
      "y_val:  (1000,)\n",
      "X_test:  (1000, 3, 32, 32)\n",
      "y_test:  (1000,)\n"
     ]
    }
   ],
   "source": [
    "# Load the (preprocessed) CIFAR10 data.\n",
    "\n",
    "data = get_CIFAR10_data()\n",
    "for k, v in data.items():\n",
    "  print('%s: ' % k, v.shape)"
   ]
  },
  {
   "cell_type": "markdown",
   "metadata": {},
   "source": [
    "# Dropout forward pass\n",
    "In the file `comp451/layers.py`, implement the forward pass for dropout. Since dropout behaves differently during training and testing, make sure to implement the operation for both modes.\n",
    "\n",
    "Once you have done so, run the cell below to test your implementation."
   ]
  },
  {
   "cell_type": "code",
   "execution_count": 17,
   "metadata": {
    "pycharm": {
     "is_executing": false
    }
   },
   "outputs": [
    {
     "name": "stdout",
     "output_type": "stream",
     "text": [
      "Running tests with p =  0.25\n",
      "Mean of input:  9.999077326314113\n",
      "Mean of train-time output:  10.007808007397543\n",
      "Mean of test-time output:  9.999077326314113\n",
      "Fraction of train-time output set to zero:  0.24938\n",
      "Fraction of test-time output set to zero:  0.0\n",
      "\n",
      "Running tests with p =  0.4\n",
      "Mean of input:  9.999077326314113\n",
      "Mean of train-time output:  9.997185111132682\n",
      "Mean of test-time output:  9.999077326314113\n",
      "Fraction of train-time output set to zero:  0.40004\n",
      "Fraction of test-time output set to zero:  0.0\n",
      "\n",
      "Running tests with p =  0.7\n",
      "Mean of input:  9.999077326314113\n",
      "Mean of train-time output:  10.008175340815658\n",
      "Mean of test-time output:  9.999077326314113\n",
      "Fraction of train-time output set to zero:  0.69986\n",
      "Fraction of test-time output set to zero:  0.0\n",
      "\n"
     ]
    }
   ],
   "source": [
    "np.random.seed(451)\n",
    "x = np.random.randn(500, 500) + 10\n",
    "\n",
    "for p in [0.25, 0.4, 0.7]:\n",
    "  out, _ = dropout_forward(x, {'mode': 'train', 'p': p})\n",
    "  out_test, _ = dropout_forward(x, {'mode': 'test', 'p': p})\n",
    "\n",
    "  print('Running tests with p = ', p)\n",
    "  print('Mean of input: ', x.mean())\n",
    "  print('Mean of train-time output: ', out.mean())\n",
    "  print('Mean of test-time output: ', out_test.mean())\n",
    "  print('Fraction of train-time output set to zero: ', (out == 0).mean())\n",
    "  print('Fraction of test-time output set to zero: ', (out_test == 0).mean())\n",
    "  print()"
   ]
  },
  {
   "cell_type": "markdown",
   "metadata": {},
   "source": [
    "# Dropout backward pass\n",
    "In the file `comp451/layers.py`, implement the backward pass for dropout. After doing so, run the following cell to numerically gradient-check your implementation."
   ]
  },
  {
   "cell_type": "code",
   "execution_count": 11,
   "metadata": {
    "pycharm": {
     "is_executing": false
    }
   },
   "outputs": [
    {
     "name": "stdout",
     "output_type": "stream",
     "text": [
      "dx relative error:  5.44561095853223e-11\n"
     ]
    }
   ],
   "source": [
    "np.random.seed(451)\n",
    "x = np.random.randn(10, 10) + 10\n",
    "dout = np.random.randn(*x.shape)\n",
    "\n",
    "dropout_param = {'mode': 'train', 'p': 0.2, 'seed': 123}\n",
    "out, cache = dropout_forward(x, dropout_param)\n",
    "dx = dropout_backward(dout, cache)\n",
    "dx_num = eval_numerical_gradient_array(lambda xx: dropout_forward(xx, dropout_param)[0], x, dout)\n",
    "\n",
    "# Error should be around e-10 or less\n",
    "print('dx relative error: ', rel_error(dx, dx_num))"
   ]
  },
  {
   "cell_type": "markdown",
   "metadata": {
    "tags": [
     "pdf-inline"
    ]
   },
   "source": [
    "## Inline Question 1:\n",
    "What happens if we do not divide the values being passed through inverse dropout by `p` in the dropout layer? Why does that happen?\n",
    "\n",
    "## Answer:\n",
    "We perform dropout only for training. As we have seen in the class, we are working on expectation of input and output. Since the consistency between training and test is required, expectation which is px should be divided by p.\n"
   ]
  },
  {
   "cell_type": "markdown",
   "metadata": {},
   "source": [
    "# Fully-connected nets with Dropout\n",
    "In the file `comp451/classifiers/fc_net.py`, modify your `FullyConnectedNet` implementation to use dropout. Specifically, \n",
    "if the constructor of the network receives a value that is not 1 for the `dropout` parameter, then the net should add a \n",
    "dropout layer immediately after every Leaky ReLU nonlinearity. After doing so, run the following to numerically gradient-check \n",
    "your implementation."
   ]
  },
  {
   "cell_type": "code",
   "execution_count": 12,
   "metadata": {
    "pycharm": {
     "is_executing": false
    }
   },
   "outputs": [
    {
     "name": "stdout",
     "output_type": "stream",
     "text": [
      "Running check with dropout =  1\n",
      "Initial loss:  2.3060478762129883\n",
      "W1 relative error: 3.94e-06\n",
      "W2 relative error: 1.54e-03\n",
      "W3 relative error: 2.44e-06\n",
      "b1 relative error: 6.28e-07\n",
      "b2 relative error: 9.05e-07\n",
      "b3 relative error: 8.65e-11\n",
      "\n",
      "Running check with dropout =  0.75\n",
      "Initial loss:  2.3009347369598636\n",
      "W1 relative error: 1.92e-06\n",
      "W2 relative error: 1.87e-06\n",
      "W3 relative error: 3.46e-05\n",
      "b1 relative error: 8.90e-08\n",
      "b2 relative error: 1.07e-08\n",
      "b3 relative error: 1.29e-10\n",
      "\n",
      "Running check with dropout =  0.5\n",
      "Initial loss:  2.297499889229186\n",
      "W1 relative error: 5.05e-05\n",
      "W2 relative error: 1.33e-04\n",
      "W3 relative error: 2.42e-06\n",
      "b1 relative error: 2.97e-07\n",
      "b2 relative error: 5.04e-08\n",
      "b3 relative error: 1.34e-10\n",
      "\n"
     ]
    }
   ],
   "source": [
    "np.random.seed(451)\n",
    "N, D, H1, H2, C = 2, 15, 20, 30, 10\n",
    "X = np.random.randn(N, D)\n",
    "y = np.random.randint(C, size=(N,))\n",
    "\n",
    "for dropout in [1, 0.75, 0.5]:\n",
    "  print('Running check with dropout = ', dropout)\n",
    "  model = FullyConnectedNet([H1, H2], input_dim=D, num_classes=C,\n",
    "                            weight_scale=5e-2, dtype=np.float64,\n",
    "                            dropout=dropout, seed=123)\n",
    "\n",
    "  loss, grads = model.loss(X, y)\n",
    "  print('Initial loss: ', loss)\n",
    "  \n",
    "  # Relative errors should be around e-6 or less; Note that it's fine\n",
    "  # if you have some errors be on the order of e-4.\n",
    "  for name in sorted(grads):\n",
    "    f = lambda _: model.loss(X, y)[0]\n",
    "    grad_num = eval_numerical_gradient(f, model.params[name], verbose=False, h=1e-5)\n",
    "    print('%s relative error: %.2e' % (name, rel_error(grad_num, grads[name])))\n",
    "  print()"
   ]
  },
  {
   "cell_type": "markdown",
   "metadata": {},
   "source": [
    "# Regularization experiment\n",
    "As an experiment, we will train a pair of two-layer networks on 500 training examples: one will use no dropout, and one will use a keep probability of 0.25. We will then visualize the training and validation accuracies of the two networks over time."
   ]
  },
  {
   "cell_type": "code",
   "execution_count": 13,
   "metadata": {
    "pycharm": {
     "is_executing": false
    },
    "scrolled": false
   },
   "outputs": [
    {
     "name": "stdout",
     "output_type": "stream",
     "text": [
      "1\n",
      "(Iteration 1 / 125) loss: 9.039360\n",
      "(Epoch 0 / 25) train acc: 0.200000; val_acc: 0.179000\n",
      "(Epoch 1 / 25) train acc: 0.328000; val_acc: 0.212000\n",
      "(Epoch 2 / 25) train acc: 0.458000; val_acc: 0.249000\n",
      "(Epoch 3 / 25) train acc: 0.526000; val_acc: 0.236000\n",
      "(Epoch 4 / 25) train acc: 0.608000; val_acc: 0.272000\n",
      "(Epoch 5 / 25) train acc: 0.714000; val_acc: 0.295000\n",
      "(Epoch 6 / 25) train acc: 0.742000; val_acc: 0.304000\n",
      "(Epoch 7 / 25) train acc: 0.800000; val_acc: 0.267000\n",
      "(Epoch 8 / 25) train acc: 0.804000; val_acc: 0.272000\n",
      "(Epoch 9 / 25) train acc: 0.810000; val_acc: 0.278000\n",
      "(Epoch 10 / 25) train acc: 0.866000; val_acc: 0.288000\n",
      "(Epoch 11 / 25) train acc: 0.894000; val_acc: 0.281000\n",
      "(Epoch 12 / 25) train acc: 0.920000; val_acc: 0.295000\n",
      "(Epoch 13 / 25) train acc: 0.944000; val_acc: 0.295000\n",
      "(Epoch 14 / 25) train acc: 0.964000; val_acc: 0.303000\n",
      "(Epoch 15 / 25) train acc: 0.968000; val_acc: 0.305000\n",
      "(Epoch 16 / 25) train acc: 0.974000; val_acc: 0.307000\n",
      "(Epoch 17 / 25) train acc: 0.986000; val_acc: 0.289000\n",
      "(Epoch 18 / 25) train acc: 0.976000; val_acc: 0.302000\n",
      "(Epoch 19 / 25) train acc: 0.978000; val_acc: 0.315000\n",
      "(Epoch 20 / 25) train acc: 0.990000; val_acc: 0.314000\n",
      "(Iteration 101 / 125) loss: 0.044817\n",
      "(Epoch 21 / 25) train acc: 0.994000; val_acc: 0.313000\n",
      "(Epoch 22 / 25) train acc: 0.996000; val_acc: 0.323000\n",
      "(Epoch 23 / 25) train acc: 0.996000; val_acc: 0.326000\n",
      "(Epoch 24 / 25) train acc: 1.000000; val_acc: 0.315000\n",
      "(Epoch 25 / 25) train acc: 1.000000; val_acc: 0.304000\n",
      "\n",
      "0.4\n",
      "(Iteration 1 / 125) loss: 10.191987\n",
      "(Epoch 0 / 25) train acc: 0.220000; val_acc: 0.190000\n",
      "(Epoch 1 / 25) train acc: 0.392000; val_acc: 0.252000\n",
      "(Epoch 2 / 25) train acc: 0.506000; val_acc: 0.271000\n",
      "(Epoch 3 / 25) train acc: 0.604000; val_acc: 0.303000\n",
      "(Epoch 4 / 25) train acc: 0.652000; val_acc: 0.249000\n",
      "(Epoch 5 / 25) train acc: 0.692000; val_acc: 0.296000\n",
      "(Epoch 6 / 25) train acc: 0.760000; val_acc: 0.291000\n",
      "(Epoch 7 / 25) train acc: 0.832000; val_acc: 0.275000\n",
      "(Epoch 8 / 25) train acc: 0.828000; val_acc: 0.295000\n",
      "(Epoch 9 / 25) train acc: 0.870000; val_acc: 0.305000\n",
      "(Epoch 10 / 25) train acc: 0.892000; val_acc: 0.321000\n",
      "(Epoch 11 / 25) train acc: 0.908000; val_acc: 0.301000\n",
      "(Epoch 12 / 25) train acc: 0.912000; val_acc: 0.289000\n",
      "(Epoch 13 / 25) train acc: 0.946000; val_acc: 0.292000\n",
      "(Epoch 14 / 25) train acc: 0.948000; val_acc: 0.323000\n",
      "(Epoch 15 / 25) train acc: 0.940000; val_acc: 0.293000\n",
      "(Epoch 16 / 25) train acc: 0.940000; val_acc: 0.294000\n",
      "(Epoch 17 / 25) train acc: 0.952000; val_acc: 0.301000\n",
      "(Epoch 18 / 25) train acc: 0.968000; val_acc: 0.311000\n",
      "(Epoch 19 / 25) train acc: 0.970000; val_acc: 0.295000\n",
      "(Epoch 20 / 25) train acc: 0.942000; val_acc: 0.305000\n",
      "(Iteration 101 / 125) loss: 1.202641\n",
      "(Epoch 21 / 25) train acc: 0.950000; val_acc: 0.283000\n",
      "(Epoch 22 / 25) train acc: 0.950000; val_acc: 0.286000\n",
      "(Epoch 23 / 25) train acc: 0.968000; val_acc: 0.302000\n",
      "(Epoch 24 / 25) train acc: 0.980000; val_acc: 0.316000\n",
      "(Epoch 25 / 25) train acc: 0.970000; val_acc: 0.311000\n",
      "\n"
     ]
    }
   ],
   "source": [
    "# Train two identical nets, one with dropout and one without\n",
    "np.random.seed(451)\n",
    "num_train = 500\n",
    "small_data = {\n",
    "  'X_train': data['X_train'][:num_train],\n",
    "  'y_train': data['y_train'][:num_train],\n",
    "  'X_val': data['X_val'],\n",
    "  'y_val': data['y_val'],\n",
    "}\n",
    "\n",
    "solvers = {}\n",
    "dropout_choices = [1, 0.40]\n",
    "for dropout in dropout_choices:\n",
    "  model = FullyConnectedNet([500], dropout=dropout)\n",
    "  print(dropout)\n",
    "\n",
    "  solver = Solver(model, small_data,\n",
    "                  num_epochs=25, batch_size=100,\n",
    "                  update_rule='adam',\n",
    "                  optim_config={\n",
    "                    'learning_rate': 5e-4,\n",
    "                  },\n",
    "                  verbose=True, print_every=100)\n",
    "  solver.train()\n",
    "  solvers[dropout] = solver\n",
    "  print()"
   ]
  },
  {
   "cell_type": "code",
   "execution_count": 14,
   "metadata": {
    "pycharm": {
     "is_executing": false
    }
   },
   "outputs": [
    {
     "data": {
      "image/png": "[encoded data removed]",
      "text/plain": [
       "<Figure size 1080x1080 with 2 Axes>"
      ]
     },
     "metadata": {
      "needs_background": "light"
     },
     "output_type": "display_data"
    }
   ],
   "source": [
    "# Plot train and validation accuracies of the two models\n",
    "\n",
    "train_accs = []\n",
    "val_accs = []\n",
    "for dropout in dropout_choices:\n",
    "  solver = solvers[dropout]\n",
    "  train_accs.append(solver.train_acc_history[-1])\n",
    "  val_accs.append(solver.val_acc_history[-1])\n",
    "\n",
    "plt.subplot(3, 1, 1)\n",
    "for dropout in dropout_choices:\n",
    "  plt.plot(solvers[dropout].train_acc_history, 'o', label='%.2f dropout' % dropout)\n",
    "plt.title('Train accuracy')\n",
    "plt.xlabel('Epoch')\n",
    "plt.ylabel('Accuracy')\n",
    "plt.legend(ncol=2, loc='lower right')\n",
    "  \n",
    "plt.subplot(3, 1, 2)\n",
    "for dropout in dropout_choices:\n",
    "  plt.plot(solvers[dropout].val_acc_history, 'o', label='%.2f dropout' % dropout)\n",
    "plt.title('Val accuracy')\n",
    "plt.xlabel('Epoch')\n",
    "plt.ylabel('Accuracy')\n",
    "plt.legend(ncol=2, loc='lower right')\n",
    "\n",
    "plt.gcf().set_size_inches(15, 15)\n",
    "plt.show()"
   ]
  },
  {
   "cell_type": "markdown",
   "metadata": {
    "pycharm": {
     "name": "#%% md\n"
    },
    "tags": [
     "pdf-inline"
    ]
   },
   "source": [
    "## Inline Question 2:\n",
    "Compare the validation and training accuracies with and without dropout -- what do your results suggest about dropout as a regularizer?\n",
    "\n",
    "## Answer:\n",
    " \n",
    "We do not want our model to overfit i.e. we want the gap between training and val be as small as possible. Dropout is one of the best regularization methods. On the other hand, p should not be too big which will cause underfitting.\n",
    "\n",
    " \n"
   ]
  },
  {
   "cell_type": "code",
   "execution_count": null,
   "metadata": {},
   "outputs": [],
   "source": []
  }
 ],
 "metadata": {
  "@webio": {
   "lastCommId": "bfb81c433eaf4e2d84b2f50c52da3398",
   "lastKernelId": "e61312a8-f76e-4b00-99fd-42c81ec258a1"
  },
  "kernelspec": {
   "display_name": "Python 3",
   "language": "python",
   "name": "python3"
  },
  "language_info": {
   "codemirror_mode": {
    "name": "ipython",
    "version": 3
   },
   "file_extension": ".py",
   "mimetype": "text/x-python",
   "name": "python",
   "nbconvert_exporter": "python",
   "pygments_lexer": "ipython3",
   "version": "3.7.3"
  },
  "pycharm": {
   "stem_cell": {
    "cell_type": "raw",
    "metadata": {
     "collapsed": false
    },
    "source": []
   }
  }
 },
 "nbformat": 4,
 "nbformat_minor": 2
}
